{
 "cells": [
  {
   "cell_type": "code",
   "execution_count": 1,
   "id": "46a15a58",
   "metadata": {},
   "outputs": [],
   "source": [
    "class Person():\n",
    "    def __init__(self,name,age):\n",
    "        # data\n",
    "        self.name = name\n",
    "        self.age = age\n",
    "        \n",
    "    def get_age(self):\n",
    "        print(self.age)\n",
    "        \n",
    "    def set_age(self,newage):\n",
    "        if newage>60:\n",
    "            print(\"age can not be greater than 60\")\n",
    "        else:\n",
    "            self.age = newage"
   ]
  },
  {
   "cell_type": "code",
   "execution_count": 2,
   "id": "9c0c7ebc",
   "metadata": {},
   "outputs": [],
   "source": [
    "p1 = Person(\"Hammad\", 35)"
   ]
  },
  {
   "cell_type": "code",
   "execution_count": null,
   "id": "b7c226f5",
   "metadata": {},
   "outputs": [],
   "source": []
  }
 ],
 "metadata": {
  "kernelspec": {
   "display_name": "Python 3 (ipykernel)",
   "language": "python",
   "name": "python3"
  },
  "language_info": {
   "codemirror_mode": {
    "name": "ipython",
    "version": 3
   },
   "file_extension": ".py",
   "mimetype": "text/x-python",
   "name": "python",
   "nbconvert_exporter": "python",
   "pygments_lexer": "ipython3",
   "version": "3.10.9"
  }
 },
 "nbformat": 4,
 "nbformat_minor": 5
}
