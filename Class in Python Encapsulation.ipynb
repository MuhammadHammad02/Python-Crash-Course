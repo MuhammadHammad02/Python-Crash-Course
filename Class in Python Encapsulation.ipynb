{
 "cells": [
  {
   "cell_type": "code",
   "execution_count": 87,
   "id": "52c71405-bf6c-448c-9af8-e5a9f4915803",
   "metadata": {},
   "outputs": [],
   "source": [
    "class Ractangle():\n",
    "    def __init__(self, width, height):\n",
    "        self.width = width\n",
    "        self.height = height\n",
    "\n",
    "    def cal_area(self):\n",
    "        return self.width * self.height\n",
    "\n",
    "    def cal_perimeter(self):\n",
    "        return 2 * (self.width + self.height)\n",
    "        \n",
    "\n",
    "\n",
    "        "
   ]
  },
  {
   "cell_type": "code",
   "execution_count": 88,
   "id": "cdda29d9-6e46-4549-906b-a334ace646f5",
   "metadata": {},
   "outputs": [],
   "source": [
    "r1 = Ractangle(2,4)"
   ]
  },
  {
   "cell_type": "code",
   "execution_count": 89,
   "id": "41db1bde-c9be-4595-a7ad-9ce4037aeeb3",
   "metadata": {},
   "outputs": [
    {
     "data": {
      "text/plain": [
       "2"
      ]
     },
     "execution_count": 89,
     "metadata": {},
     "output_type": "execute_result"
    }
   ],
   "source": [
    "r1.width"
   ]
  },
  {
   "cell_type": "code",
   "execution_count": 90,
   "id": "c7af6414-bc43-45ff-9fe2-618bfa3291d5",
   "metadata": {},
   "outputs": [
    {
     "data": {
      "text/plain": [
       "4"
      ]
     },
     "execution_count": 90,
     "metadata": {},
     "output_type": "execute_result"
    }
   ],
   "source": [
    "r1.height"
   ]
  },
  {
   "cell_type": "code",
   "execution_count": 91,
   "id": "b343a01a-fe13-43c7-beb5-299493cf0439",
   "metadata": {},
   "outputs": [
    {
     "data": {
      "text/plain": [
       "8"
      ]
     },
     "execution_count": 91,
     "metadata": {},
     "output_type": "execute_result"
    }
   ],
   "source": [
    "r1.cal_area()"
   ]
  },
  {
   "cell_type": "code",
   "execution_count": 92,
   "id": "bb498427-acf8-4480-963c-31321e267b3b",
   "metadata": {},
   "outputs": [
    {
     "data": {
      "text/plain": [
       "12"
      ]
     },
     "execution_count": 92,
     "metadata": {},
     "output_type": "execute_result"
    }
   ],
   "source": [
    "r1.cal_perimeter()"
   ]
  },
  {
   "cell_type": "markdown",
   "id": "571bd79f-7f53-4793-8161-10f0e5b98982",
   "metadata": {},
   "source": [
    "Encapsulation in Python\n"
   ]
  },
  {
   "cell_type": "code",
   "execution_count": 93,
   "id": "3bab97e8-8b75-43a0-a880-65f3275dbe9f",
   "metadata": {},
   "outputs": [
    {
     "name": "stdout",
     "output_type": "stream",
     "text": [
      "Name: Jessa 14\n",
      "Name: Jessa 16\n"
     ]
    }
   ],
   "source": [
    "class Student:\n",
    "    def __init__(self, name, age):\n",
    "        # private member\n",
    "        self.name = name\n",
    "        self.__age = age\n",
    "\n",
    "    # getter method\n",
    "    def get_age(self):\n",
    "        return self.__age\n",
    "\n",
    "    # setter method\n",
    "    def set_age(self, age):\n",
    "        self.__age = age\n",
    "\n",
    "stud = Student('Jessa', 14)\n",
    "\n",
    "# retrieving age using getter\n",
    "print('Name:', stud.name, stud.get_age())\n",
    "\n",
    "# changing age using setter\n",
    "stud.set_age(16)\n",
    "\n",
    "# retrieving age using getter\n",
    "print('Name:', stud.name, stud.get_age())"
   ]
  },
  {
   "cell_type": "code",
   "execution_count": 94,
   "id": "57f09bfe-fcf3-479e-92c8-b54eb94e5c3b",
   "metadata": {},
   "outputs": [
    {
     "data": {
      "text/plain": [
       "16"
      ]
     },
     "execution_count": 94,
     "metadata": {},
     "output_type": "execute_result"
    }
   ],
   "source": [
    "stud.get_age()"
   ]
  },
  {
   "cell_type": "code",
   "execution_count": 112,
   "id": "44361575-5c4b-4bcb-808c-95ce1b7862ec",
   "metadata": {},
   "outputs": [],
   "source": [
    "class Person():\n",
    "    def __init__(self,name, age,gender):\n",
    "        # data \n",
    "        self.name = name\n",
    "        self._age = age\n",
    "        self.__gendet  = gender\n",
    "    \n",
    "    def get_age(self):\n",
    "        print(self._age)\n",
    "    def set_age(self,newage):\n",
    "        if newage>60:\n",
    "            print(\"age can not be greater than 60\")\n",
    "        else:\n",
    "            self.age =newage"
   ]
  },
  {
   "cell_type": "code",
   "execution_count": 113,
   "id": "b97ebd21-0486-4a03-8fa7-f3146921be39",
   "metadata": {},
   "outputs": [],
   "source": [
    "p2 = Person(\"asad\",12,\"Male\")"
   ]
  },
  {
   "cell_type": "code",
   "execution_count": 114,
   "id": "79c6ddd9-0ef8-4f2d-bb7b-9e51bfa20d74",
   "metadata": {},
   "outputs": [
    {
     "data": {
      "text/plain": [
       "'asad'"
      ]
     },
     "execution_count": 114,
     "metadata": {},
     "output_type": "execute_result"
    }
   ],
   "source": [
    "p2.name"
   ]
  },
  {
   "cell_type": "code",
   "execution_count": 115,
   "id": "f486b4ee-b34a-4325-b573-03a30d787338",
   "metadata": {},
   "outputs": [
    {
     "name": "stdout",
     "output_type": "stream",
     "text": [
      "12\n"
     ]
    }
   ],
   "source": [
    "p2.get_age()"
   ]
  },
  {
   "cell_type": "code",
   "execution_count": 116,
   "id": "fedaed55-0da7-44bb-bb42-6269af18a632",
   "metadata": {},
   "outputs": [
    {
     "name": "stdout",
     "output_type": "stream",
     "text": [
      "age can not be greater than 60\n"
     ]
    }
   ],
   "source": [
    "p2.set_age(61)"
   ]
  },
  {
   "cell_type": "code",
   "execution_count": 117,
   "id": "9c4fa444-718d-463e-8f12-90e9d34bff01",
   "metadata": {},
   "outputs": [],
   "source": [
    "p2.set_age(55)"
   ]
  },
  {
   "cell_type": "code",
   "execution_count": null,
   "id": "6a96a1eb-ae6b-47e3-93c3-8c155b0bee2f",
   "metadata": {},
   "outputs": [],
   "source": []
  }
 ],
 "metadata": {
  "kernelspec": {
   "display_name": "Python 3 (ipykernel)",
   "language": "python",
   "name": "python3"
  },
  "language_info": {
   "codemirror_mode": {
    "name": "ipython",
    "version": 3
   },
   "file_extension": ".py",
   "mimetype": "text/x-python",
   "name": "python",
   "nbconvert_exporter": "python",
   "pygments_lexer": "ipython3",
   "version": "3.11.4"
  }
 },
 "nbformat": 4,
 "nbformat_minor": 5
}
