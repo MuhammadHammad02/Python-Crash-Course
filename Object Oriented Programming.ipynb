{
 "cells": [
  {
   "cell_type": "code",
   "execution_count": 1,
   "id": "3ef15726-8e92-49a4-a07a-e9d0c1322306",
   "metadata": {},
   "outputs": [],
   "source": [
    "class Dog:\n",
    "\n",
    "    def __init__(self, name, age):\n",
    "        self.name = name\n",
    "        self.age = age\n",
    "\n",
    "    def sit(self):\n",
    "        print(f\"{self.name} is now sitting\")\n",
    "\n",
    "    def roll_over(self):\n",
    "        print(f\"{self.name} is rolled over\")\n",
    "    "
   ]
  },
  {
   "cell_type": "code",
   "execution_count": 2,
   "id": "db83c2e9-5451-4a05-bd17-a4be7c0c57cc",
   "metadata": {},
   "outputs": [],
   "source": [
    "my_dog = Dog(\"Lucy\", 5)"
   ]
  },
  {
   "cell_type": "code",
   "execution_count": 3,
   "id": "aa4dd537-b805-4e53-9c02-6e1064e707ab",
   "metadata": {},
   "outputs": [
    {
     "name": "stdout",
     "output_type": "stream",
     "text": [
      "My dog name is Lucy\n",
      "My dog is 5 year old\n"
     ]
    }
   ],
   "source": [
    "print(f\"My dog name is {my_dog.name}\")\n",
    "print(f\"My dog is {my_dog.age} year old\")"
   ]
  },
  {
   "cell_type": "code",
   "execution_count": 4,
   "id": "648d2471-668c-4d5d-aa36-97e6f60e4316",
   "metadata": {},
   "outputs": [
    {
     "name": "stdout",
     "output_type": "stream",
     "text": [
      "Lucy is rolled over\n"
     ]
    }
   ],
   "source": [
    "my_dog.roll_over()"
   ]
  },
  {
   "cell_type": "code",
   "execution_count": 5,
   "id": "ef9e105b-2ff3-4a1b-87e0-bc638ebf6f2d",
   "metadata": {},
   "outputs": [
    {
     "name": "stdout",
     "output_type": "stream",
     "text": [
      "Lucy is now sitting\n"
     ]
    }
   ],
   "source": [
    "my_dog.sit()"
   ]
  },
  {
   "cell_type": "code",
   "execution_count": 6,
   "id": "0f468a44-13c2-4ca4-8865-31ce2616e23e",
   "metadata": {},
   "outputs": [],
   "source": [
    "your_dog = Dog(\"Fluffy\", 6 )"
   ]
  },
  {
   "cell_type": "code",
   "execution_count": 7,
   "id": "22248d6f-39f0-4ec0-8600-ec1cf7e8020d",
   "metadata": {},
   "outputs": [
    {
     "data": {
      "text/plain": [
       "'Fluffy'"
      ]
     },
     "execution_count": 7,
     "metadata": {},
     "output_type": "execute_result"
    }
   ],
   "source": [
    "your_dog.name"
   ]
  },
  {
   "cell_type": "markdown",
   "id": "f95d707e-b22d-4fa6-9e35-f5f8a0bd3f20",
   "metadata": {},
   "source": [
    "Resturant"
   ]
  },
  {
   "cell_type": "code",
   "execution_count": 10,
   "id": "528e89f1-b65a-4994-8a18-aec857687031",
   "metadata": {},
   "outputs": [],
   "source": [
    "class Resturant():\n",
    "    def __init__(self, resturant_name, cuisine_type):\n",
    "        self.resturant_name = resturant_name\n",
    "        self.cuisine_type = cuisine_type\n",
    "\n",
    "    def describe_resturant(self):\n",
    "        print(f\"The resturant name is {self.resturant_name} and cuisine type is {self.cuisine_type}\")\n",
    "\n",
    "    def open_resturant(self):\n",
    "        print(f\"{self.resturant_name} is now open\")\n",
    "        \n",
    "        "
   ]
  },
  {
   "cell_type": "code",
   "execution_count": 11,
   "id": "723994ab-bc93-4cab-bf23-cce8685e7c07",
   "metadata": {},
   "outputs": [],
   "source": [
    "res1 = Resturant(\"Suzie Wong\" , \"Chinese\")"
   ]
  },
  {
   "cell_type": "code",
   "execution_count": 12,
   "id": "70bbd0de-e368-489c-899a-102f9af9bfa8",
   "metadata": {},
   "outputs": [
    {
     "data": {
      "text/plain": [
       "'Chinese'"
      ]
     },
     "execution_count": 12,
     "metadata": {},
     "output_type": "execute_result"
    }
   ],
   "source": [
    "res1.cuisine_type"
   ]
  },
  {
   "cell_type": "code",
   "execution_count": 13,
   "id": "63ccfb7b-a024-4fe1-9b15-ea9de16c78f6",
   "metadata": {},
   "outputs": [
    {
     "name": "stdout",
     "output_type": "stream",
     "text": [
      "The resturant name is Suzie Wong and cuisine type is Chinese\n"
     ]
    }
   ],
   "source": [
    "res1.describe_resturant()"
   ]
  },
  {
   "cell_type": "code",
   "execution_count": 14,
   "id": "c2805c98-cab3-4976-85f0-60ccea80d048",
   "metadata": {},
   "outputs": [
    {
     "name": "stdout",
     "output_type": "stream",
     "text": [
      "Suzie Wong is now open\n"
     ]
    }
   ],
   "source": [
    "res1.open_resturant()"
   ]
  },
  {
   "cell_type": "code",
   "execution_count": 15,
   "id": "0bfa47a9-62b1-43a7-af38-6d937b7be86e",
   "metadata": {},
   "outputs": [
    {
     "data": {
      "text/plain": [
       "'Suzie Wong'"
      ]
     },
     "execution_count": 15,
     "metadata": {},
     "output_type": "execute_result"
    }
   ],
   "source": [
    "res1.resturant_name"
   ]
  },
  {
   "cell_type": "code",
   "execution_count": 16,
   "id": "db8cd3f1-79be-45d2-834f-8a49ae68785e",
   "metadata": {},
   "outputs": [],
   "source": [
    "res2 = Resturant(\"Karachi Food\", \"Pakistani\")\n"
   ]
  },
  {
   "cell_type": "code",
   "execution_count": 17,
   "id": "76c412ca-ddfb-41f1-aa17-e97cd6973215",
   "metadata": {},
   "outputs": [],
   "source": [
    "res3 = Resturant(\"Bella Vita\", \"Italian\")"
   ]
  },
  {
   "cell_type": "code",
   "execution_count": 18,
   "id": "cf7030e4-8c2d-4b40-8aa2-6a8bbcab8f14",
   "metadata": {},
   "outputs": [],
   "source": [
    "res4 = Resturant(\"BBQ Tonigh\",\"Pakistani\")"
   ]
  },
  {
   "cell_type": "code",
   "execution_count": 20,
   "id": "68c23ffb-8144-4f2e-a157-eac0bd9ac1af",
   "metadata": {},
   "outputs": [
    {
     "name": "stdout",
     "output_type": "stream",
     "text": [
      "The resturant name is Suzie Wong and cuisine type is Chinese\n"
     ]
    }
   ],
   "source": [
    "res1.describe_resturant()"
   ]
  },
  {
   "cell_type": "code",
   "execution_count": 21,
   "id": "7b3a4623-e7c3-450c-abc7-6514eae165d3",
   "metadata": {},
   "outputs": [
    {
     "name": "stdout",
     "output_type": "stream",
     "text": [
      "The resturant name is Karachi Food and cuisine type is Pakistani\n"
     ]
    }
   ],
   "source": [
    "res2.describe_resturant()"
   ]
  },
  {
   "cell_type": "code",
   "execution_count": 22,
   "id": "74afc75c-20ef-4149-8deb-cdead16f9b7b",
   "metadata": {},
   "outputs": [
    {
     "name": "stdout",
     "output_type": "stream",
     "text": [
      "The resturant name is Bella Vita and cuisine type is Italian\n"
     ]
    }
   ],
   "source": [
    "res3.describe_resturant()"
   ]
  },
  {
   "cell_type": "code",
   "execution_count": 23,
   "id": "4bcaf8ca-d54e-4a55-9758-d99565005b4f",
   "metadata": {},
   "outputs": [
    {
     "name": "stdout",
     "output_type": "stream",
     "text": [
      "The resturant name is BBQ Tonigh and cuisine type is Pakistani\n"
     ]
    }
   ],
   "source": [
    "res4.describe_resturant()"
   ]
  },
  {
   "cell_type": "code",
   "execution_count": 24,
   "id": "04c9d888-2bf9-428c-91f8-0cf9394e84fc",
   "metadata": {},
   "outputs": [
    {
     "name": "stdout",
     "output_type": "stream",
     "text": [
      "The user's name is Bob The Builder\n",
      "The user is 42 years old and lives in London\n",
      "Hello, Bob The Builder\n",
      "___\n",
      "\n",
      "The user's name is Peter Parker\n",
      "The user is 28 years old and lives in New York\n",
      "Hello, Peter Parker\n"
     ]
    }
   ],
   "source": [
    "class User:\n",
    "  def __init__(self, first_name, last_name, location, age):\n",
    "    self.first_name = first_name\n",
    "    self.last_name = last_name\n",
    "    self.location = location\n",
    "    self.age = age\n",
    "\n",
    "  def describe_user(self):\n",
    "    print(f\"The user's name is {self.first_name} {self.last_name}\")\n",
    "    print(f'The user is {self.age} years old and lives in {self.location}')\n",
    "\n",
    "  def greet_user(self):\n",
    "    print(f\"Hello, {self.first_name} {self.last_name}\")\n",
    "\n",
    "user_1 = User(\"Bob\", \"The Builder\", \"London\", 42)\n",
    "user_1.describe_user()\n",
    "user_1.greet_user()\n",
    "\n",
    "print(\"___\\n\")\n",
    "\n",
    "user_2 = User(\"Peter\", \"Parker\", \"New York\", 28)\n",
    "user_2.describe_user()\n",
    "user_2.greet_user()\n",
    "     "
   ]
  },
  {
   "cell_type": "code",
   "execution_count": 16,
   "id": "4f480bfb-2b9a-4290-9e42-fd4532fcc821",
   "metadata": {},
   "outputs": [
    {
     "name": "stdout",
     "output_type": "stream",
     "text": [
      "2024 Audi A4\n"
     ]
    }
   ],
   "source": [
    "class Car():\n",
    "    def __init__(self,make, model,year):\n",
    "        self.make = make\n",
    "        self.model = model\n",
    "        self.year = year\n",
    "        self.odometer_reading = 0\n",
    "\n",
    "    def get_descriptive_name(self):\n",
    "        log_name = f\"{self.year} {self.make} {self.model}\"\n",
    "        return log_name.title()\n",
    "\n",
    "    def read_odometer(self):\n",
    "        print(f\"This car has {self.odometer_reading} miles on it.\")\n",
    "\n",
    "    def update_odometer(self, mileage):\n",
    "        if mileage >= self.odometer_reading:\n",
    "            self.odometer_reading = mileage\n",
    "\n",
    "        else:\n",
    "            print(\"You can't roll back an odometer\")\n",
    "\n",
    "    def increament_odometer(self,miles):\n",
    "        self.odometer_reading += miles\n",
    "\n",
    "my_new_car = Car(\"audi\", \"a4\",2024)\n",
    "print(my_new_car.get_descriptive_name())\n",
    "\n",
    "\n",
    "        \n",
    "    "
   ]
  },
  {
   "cell_type": "code",
   "execution_count": 17,
   "id": "4bf50144-c1f1-429f-9687-b8b6b89510ce",
   "metadata": {},
   "outputs": [
    {
     "name": "stdout",
     "output_type": "stream",
     "text": [
      "This car has 0 miles on it.\n"
     ]
    }
   ],
   "source": [
    "my_new_car.read_odometer()"
   ]
  },
  {
   "cell_type": "markdown",
   "id": "c82b7105-a17f-4d30-8ffd-c50ffa79d47d",
   "metadata": {},
   "source": [
    "Modyfying Attributes Value\n"
   ]
  },
  {
   "cell_type": "code",
   "execution_count": 18,
   "id": "5b48c2de-62ae-46e1-a01a-cc02fdf4ecf4",
   "metadata": {},
   "outputs": [],
   "source": [
    "my_new_car.odometer_reading = 23"
   ]
  },
  {
   "cell_type": "code",
   "execution_count": 19,
   "id": "8d994567-f1a6-454f-9fbf-858fa550d7b5",
   "metadata": {},
   "outputs": [
    {
     "name": "stdout",
     "output_type": "stream",
     "text": [
      "This car has 23 miles on it.\n"
     ]
    }
   ],
   "source": [
    "my_new_car.read_odometer()"
   ]
  },
  {
   "cell_type": "markdown",
   "id": "4e584c8c-67f4-4768-aecd-1d92ca7fef9d",
   "metadata": {},
   "source": [
    " Modifying an Attribute’s Value Through a Method\n"
   ]
  },
  {
   "cell_type": "code",
   "execution_count": 20,
   "id": "b8deda5b-fa07-4798-a9c4-b65043635292",
   "metadata": {},
   "outputs": [],
   "source": [
    "my_new_car.update_odometer(24)"
   ]
  },
  {
   "cell_type": "code",
   "execution_count": 21,
   "id": "a78ff567-189e-45d3-a879-96c60f966313",
   "metadata": {},
   "outputs": [
    {
     "name": "stdout",
     "output_type": "stream",
     "text": [
      "This car has 24 miles on it.\n"
     ]
    }
   ],
   "source": [
    "my_new_car.read_odometer()"
   ]
  },
  {
   "cell_type": "code",
   "execution_count": 22,
   "id": "a1dbf67a-a154-47f5-8430-ff650ed96faf",
   "metadata": {},
   "outputs": [],
   "source": [
    "my_used_car = Car(\"subaru\",\"outback\", 2019)"
   ]
  },
  {
   "cell_type": "code",
   "execution_count": 24,
   "id": "f46162c2-a152-47e4-a868-68e81f291ef2",
   "metadata": {},
   "outputs": [
    {
     "name": "stdout",
     "output_type": "stream",
     "text": [
      "2019 Subaru Outback\n"
     ]
    }
   ],
   "source": [
    "print(my_used_car.get_descriptive_name())"
   ]
  },
  {
   "cell_type": "code",
   "execution_count": 25,
   "id": "eb87ebda-490f-43e0-a0f0-ba16d84aca06",
   "metadata": {},
   "outputs": [],
   "source": [
    "my_used_car.update_odometer(23500)"
   ]
  },
  {
   "cell_type": "code",
   "execution_count": 28,
   "id": "8662b20c-b973-41c9-88d9-4e89495485ce",
   "metadata": {},
   "outputs": [
    {
     "name": "stdout",
     "output_type": "stream",
     "text": [
      "This car has 23500 miles on it.\n"
     ]
    }
   ],
   "source": [
    "my_used_car.read_odometer()"
   ]
  },
  {
   "cell_type": "code",
   "execution_count": 29,
   "id": "58bc3dbc-f895-4700-85cf-f37b48e53c3a",
   "metadata": {},
   "outputs": [],
   "source": [
    "my_used_car.increament_odometer(100)"
   ]
  },
  {
   "cell_type": "code",
   "execution_count": 32,
   "id": "36c1f08e-1d85-40ee-8022-06cdb238649e",
   "metadata": {},
   "outputs": [
    {
     "name": "stdout",
     "output_type": "stream",
     "text": [
      "This car has 23600 miles on it.\n"
     ]
    }
   ],
   "source": [
    "my_used_car.read_odometer()"
   ]
  },
  {
   "cell_type": "code",
   "execution_count": 67,
   "id": "6b4b84af-a30c-45da-b002-ea25bca94995",
   "metadata": {},
   "outputs": [],
   "source": [
    "class Resturant():\n",
    "    def __init__(self, resturant_name, cuisine_type):\n",
    "        self.resturant_name = resturant_name\n",
    "        self.cuisine_type = cuisine_type\n",
    "        self.number_served = 0\n",
    "\n",
    "    def describe_resturant(self):\n",
    "        print(f\"The resturant name is {self.resturant_name} and cuisine type is {self.cuisine_type}\")\n",
    "\n",
    "    def open_resturant(self):\n",
    "        print(f\"{self.resturant_name} is now open\")\n",
    "\n",
    "    def set_number_served(self, num_of_customer):\n",
    "        self.number_served = num_of_customer\n",
    "\n",
    "    def increament_number_served(self,increment_num):\n",
    "        self.number_served +=increment_num\n",
    "        "
   ]
  },
  {
   "cell_type": "code",
   "execution_count": 68,
   "id": "6b96141e-d976-4bfb-8a63-98a67b4a911a",
   "metadata": {},
   "outputs": [],
   "source": [
    "resturant = Resturant(\"Kababjees\" , \"Pakistani\")"
   ]
  },
  {
   "cell_type": "code",
   "execution_count": 69,
   "id": "9b48f985-23e2-4f06-846d-d6361028c802",
   "metadata": {},
   "outputs": [
    {
     "name": "stdout",
     "output_type": "stream",
     "text": [
      "The number of customer has been served are 0\n"
     ]
    }
   ],
   "source": [
    "print(f\"The number of customer has been served are {resturant.number_served}\")"
   ]
  },
  {
   "cell_type": "code",
   "execution_count": 70,
   "id": "6ac1d5a9-a25e-47c4-ae51-0cf97e0abf90",
   "metadata": {},
   "outputs": [],
   "source": [
    "resturant.number_served = 25"
   ]
  },
  {
   "cell_type": "code",
   "execution_count": 71,
   "id": "d3db779b-acce-4894-af6f-03d45e7349cc",
   "metadata": {},
   "outputs": [
    {
     "name": "stdout",
     "output_type": "stream",
     "text": [
      "The number of customer has been served are 25\n"
     ]
    }
   ],
   "source": [
    "print(f\"The number of customer has been served are {resturant.number_served}\")"
   ]
  },
  {
   "cell_type": "code",
   "execution_count": 72,
   "id": "c1093709-c8c5-45f0-915f-4f20ddfa84c9",
   "metadata": {},
   "outputs": [],
   "source": [
    "resturant.set_number_served(30)"
   ]
  },
  {
   "cell_type": "code",
   "execution_count": 73,
   "id": "269e9be9-3ebd-4c44-bfe0-164130ea7b71",
   "metadata": {},
   "outputs": [
    {
     "name": "stdout",
     "output_type": "stream",
     "text": [
      "The number of customer has been served are 30\n"
     ]
    }
   ],
   "source": [
    "print(f\"The number of customer has been served are {resturant.number_served}\")"
   ]
  },
  {
   "cell_type": "code",
   "execution_count": 74,
   "id": "82cbb0d3-48cd-4e0c-a80d-74d05add4327",
   "metadata": {},
   "outputs": [],
   "source": [
    "resturant.increament_number_served(15)"
   ]
  },
  {
   "cell_type": "code",
   "execution_count": 76,
   "id": "ecbd17ac-c543-4ea4-85ef-04f968432f9d",
   "metadata": {},
   "outputs": [
    {
     "name": "stdout",
     "output_type": "stream",
     "text": [
      "The number of customer has been served are 45\n"
     ]
    }
   ],
   "source": [
    "print(f\"The number of customer has been served are {resturant.number_served}\")"
   ]
  },
  {
   "cell_type": "code",
   "execution_count": 96,
   "id": "48e74381-1327-49fa-bf7b-f5c30d2af761",
   "metadata": {},
   "outputs": [],
   "source": [
    "class User:\n",
    "  def __init__(self, first_name, last_name, location, age):\n",
    "    self.first_name = first_name\n",
    "    self.last_name = last_name\n",
    "    self.location = location\n",
    "    self.age = age\n",
    "    self.login_attempts = 0\n",
    "\n",
    "  def describe_user(self):\n",
    "    print(f\"The user's name is {self.first_name} {self.last_name}\")\n",
    "    print(f'The user is {self.age} years old and lives in {self.location}')\n",
    "\n",
    "  def greet_user(self):\n",
    "    print(f\"Hello, {self.first_name} {self.last_name}\")\n",
    "\n",
    "  def increament_login_attempts(self):\n",
    "      self.login_attempts += 1\n",
    "\n",
    "  def reset_login_attempts(self):\n",
    "      self.login_attempts = 0\n",
    "\n"
   ]
  },
  {
   "cell_type": "code",
   "execution_count": 97,
   "id": "33853f9c-1722-4f1f-9e4c-2f5f4c4c4901",
   "metadata": {},
   "outputs": [],
   "source": [
    "user = User(\"Hammad\",\"Khan\",\"Karachi\", 35)\n",
    "\n",
    "user.increament_login_attempts()\n",
    "user.increament_login_attempts()\n",
    "user.increament_login_attempts()"
   ]
  },
  {
   "cell_type": "code",
   "execution_count": 98,
   "id": "14b10204-9c2e-4bcf-8c29-119cc576f9ea",
   "metadata": {},
   "outputs": [
    {
     "name": "stdout",
     "output_type": "stream",
     "text": [
      "User name is Hammad Khan from Karachi is 35 year old\n",
      "3\n"
     ]
    }
   ],
   "source": [
    "print(f\"User name is {user.first_name} {user.last_name} from {user.location} is {user.age} year old\")\n",
    "print(user.login_attempts)\n"
   ]
  },
  {
   "cell_type": "code",
   "execution_count": 99,
   "id": "401b07bc-32f2-471b-b6ca-948a6be35193",
   "metadata": {},
   "outputs": [],
   "source": [
    "user.reset_login_attempts()"
   ]
  },
  {
   "cell_type": "code",
   "execution_count": 100,
   "id": "cdeb0337-505f-4efd-a773-1b3603f791fa",
   "metadata": {},
   "outputs": [
    {
     "name": "stdout",
     "output_type": "stream",
     "text": [
      "0\n"
     ]
    }
   ],
   "source": [
    "print(user.login_attempts)"
   ]
  },
  {
   "cell_type": "code",
   "execution_count": 2,
   "id": "f7c67d6f-7667-45e5-aa49-ee9d7655ac64",
   "metadata": {},
   "outputs": [],
   "source": [
    "class Resturant():\n",
    "    def __init__(self, resturant_name, cuisine_type):\n",
    "        self.resturant_name = resturant_name\n",
    "        self.cuisine_type = cuisine_type\n",
    "\n",
    "    def describe_resturant(self):\n",
    "        print(f\"The resturant name is {self.resturant_name} and cuisine type is {self.cuisine_type}\")\n",
    "\n",
    "    def open_resturant(self):\n",
    "        print(f\"{self.resturant_name} is now open\")\n",
    "        "
   ]
  },
  {
   "cell_type": "code",
   "execution_count": 3,
   "id": "b4265d5c-ba27-4cb1-a481-0d9a07533c3b",
   "metadata": {},
   "outputs": [],
   "source": [
    "class IceCreamStand(Resturant):\n",
    "    def __init__(self,resturant_name,cuisine_type,flavors):\n",
    "        super().__init__(resturant_name,cuisine_type)\n",
    "        self.flavors = flavors\n",
    "\n",
    "    def display_flavor(self):\n",
    "        print(\"All flavors\")\n",
    "        for flavor in self.flavors:\n",
    "            print(f\"{flavor}\")\n",
    "        "
   ]
  },
  {
   "cell_type": "code",
   "execution_count": 4,
   "id": "f8119c10-a988-4b9b-9ea1-21c8db0c12ea",
   "metadata": {},
   "outputs": [
    {
     "name": "stdout",
     "output_type": "stream",
     "text": [
      "All flavors\n",
      "kulfa\n",
      "pista\n",
      "crunch\n",
      "chocolate\n",
      "mango\n"
     ]
    }
   ],
   "source": [
    "ice_cream = IceCreamStand(\"Peshawri\", \"ice cream\", ['kulfa','pista','crunch','chocolate','mango'])\n",
    "ice_cream.display_flavor()"
   ]
  },
  {
   "cell_type": "code",
   "execution_count": 7,
   "id": "29cd0f42-b0ce-4592-bfa8-9cff09ebb855",
   "metadata": {},
   "outputs": [],
   "source": [
    "class User:\n",
    "  def __init__(self, first_name, last_name, location, age):\n",
    "    self.first_name = first_name\n",
    "    self.last_name = last_name\n",
    "    self.location = location\n",
    "    self.age = age\n",
    "\n",
    "  def describe_user(self):\n",
    "    print(f\"The user's name is {self.first_name} {self.last_name}\")\n",
    "    print(f'The user is {self.age} years old and lives in {self.location}')\n",
    "\n",
    "  def greet_user(self):\n",
    "    print(f\"Hello, {self.first_name} {self.last_name}\")\n"
   ]
  },
  {
   "cell_type": "code",
   "execution_count": 8,
   "id": "29f795eb-d18d-4483-b301-b4038cf11464",
   "metadata": {},
   "outputs": [],
   "source": [
    "class Admin(User):\n",
    "    \n",
    "    def __init__(self, first_name, last_name, location, age, privileges):\n",
    "        \n",
    "        self.first_name = first_name\n",
    "        self.last_name = last_name\n",
    "        self.location = location\n",
    "        self.age = age\n",
    "        self.privileges = privileges\n",
    "\n",
    "    def show_privileges(self):\n",
    "        \n",
    "        print(\"Privileges are \")\n",
    "        for privilege in self.privileges:\n",
    "            print(f\"{privilege}\")\n",
    "\n",
    "    "
   ]
  },
  {
   "cell_type": "code",
   "execution_count": 9,
   "id": "f10d88aa-ab27-4737-ba15-1276ac825850",
   "metadata": {},
   "outputs": [],
   "source": [
    "admin1 = Admin(\"Hammad\", \"Khan\", \"Karachi\", 35 , [\"can add post\",\"can delete post\",\"can ban user\"])"
   ]
  },
  {
   "cell_type": "code",
   "execution_count": 10,
   "id": "bc716232-4d91-4b6b-ba32-62b733b5fedf",
   "metadata": {},
   "outputs": [
    {
     "name": "stdout",
     "output_type": "stream",
     "text": [
      "Privileges are \n",
      "can add post\n",
      "can delete post\n",
      "can ban user\n"
     ]
    }
   ],
   "source": [
    "admin1.show_privileges()"
   ]
  },
  {
   "cell_type": "code",
   "execution_count": null,
   "id": "ae7c40f1-715c-44bc-a70e-147f97e6a2c2",
   "metadata": {},
   "outputs": [],
   "source": []
  },
  {
   "cell_type": "code",
   "execution_count": null,
   "id": "a5e302e1-0cd5-4a19-81fe-8a00ae950d8d",
   "metadata": {},
   "outputs": [],
   "source": []
  }
 ],
 "metadata": {
  "kernelspec": {
   "display_name": "Python 3 (ipykernel)",
   "language": "python",
   "name": "python3"
  },
  "language_info": {
   "codemirror_mode": {
    "name": "ipython",
    "version": 3
   },
   "file_extension": ".py",
   "mimetype": "text/x-python",
   "name": "python",
   "nbconvert_exporter": "python",
   "pygments_lexer": "ipython3",
   "version": "3.11.4"
  }
 },
 "nbformat": 4,
 "nbformat_minor": 5
}
