{
  "nbformat": 4,
  "nbformat_minor": 0,
  "metadata": {
    "colab": {
      "provenance": [],
      "authorship_tag": "ABX9TyMDprnJkEBxob/kozQyYxWy",
      "include_colab_link": true
    },
    "kernelspec": {
      "name": "python3",
      "display_name": "Python 3"
    },
    "language_info": {
      "name": "python"
    }
  },
  "cells": [
    {
      "cell_type": "markdown",
      "metadata": {
        "id": "view-in-github",
        "colab_type": "text"
      },
      "source": [
        "<a href=\"https://colab.research.google.com/github/MuhammadHammad02/Python-Crash-Course/blob/main/While_Loop.ipynb\" target=\"_parent\"><img src=\"https://colab.research.google.com/assets/colab-badge.svg\" alt=\"Open In Colab\"/></a>"
      ]
    },
    {
      "cell_type": "code",
      "execution_count": 2,
      "metadata": {
        "colab": {
          "base_uri": "https://localhost:8080/"
        },
        "id": "SNkfk42k-VJc",
        "outputId": "d1edb73a-a124-4d0e-fbff-f69e406acd45"
      },
      "outputs": [
        {
          "output_type": "stream",
          "name": "stdout",
          "text": [
            "1\n",
            "2\n",
            "3\n",
            "4\n",
            "5\n"
          ]
        }
      ],
      "source": [
        "current_number = 1\n",
        "while current_number <= 5:\n",
        "  print(current_number)\n",
        "  current_number +=1\n"
      ]
    },
    {
      "cell_type": "code",
      "source": [
        "prompt = \"\\nTell me something, and I will repeat it back to you:\"\n",
        "prompt += \"\\nEnter 'quit' to end the program. \"\n",
        "message = \"\"\n",
        "while message != 'quit':\n",
        "  message = input(prompt)\n",
        "  print(message)"
      ],
      "metadata": {
        "colab": {
          "base_uri": "https://localhost:8080/"
        },
        "id": "eccpRvhQBetI",
        "outputId": "7011d960-5643-4e57-d531-bf31dc4fea01"
      },
      "execution_count": 3,
      "outputs": [
        {
          "output_type": "stream",
          "name": "stdout",
          "text": [
            "\n",
            "Tell me something, and I will repeat it back to you:\n",
            "Enter 'quit' to end the program. hello hammad kese ho tum\n",
            "hello hammad kese ho tum\n",
            "\n",
            "Tell me something, and I will repeat it back to you:\n",
            "Enter 'quit' to end the program. hello\n",
            "hello\n",
            "\n",
            "Tell me something, and I will repeat it back to you:\n",
            "Enter 'quit' to end the program. quit\n",
            "quit\n"
          ]
        }
      ]
    },
    {
      "cell_type": "code",
      "source": [
        "prompt = \"\\nTell me something, and I will repeat it back to you:\"\n",
        "prompt += \"\\nEnter 'quit' to end the program. \"\n",
        "active = True\n",
        "while active:\n",
        "  message = input(prompt)\n",
        "  if message == 'quit':\n",
        "      active = False\n",
        "  else:\n",
        "      print(message)"
      ],
      "metadata": {
        "colab": {
          "base_uri": "https://localhost:8080/"
        },
        "id": "v-_XySIWBzRA",
        "outputId": "100a75d7-7c06-4c39-a0ce-2c6675dd72e9"
      },
      "execution_count": 4,
      "outputs": [
        {
          "name": "stdout",
          "output_type": "stream",
          "text": [
            "\n",
            "Tell me something, and I will repeat it back to you:\n",
            "Enter 'quit' to end the program. hello how are you\n",
            "hello how are you\n",
            "\n",
            "Tell me something, and I will repeat it back to you:\n",
            "Enter 'quit' to end the program. quit\n"
          ]
        }
      ]
    },
    {
      "cell_type": "code",
      "source": [
        "visited_cities = \"\\nPlease enter cities which you have visited\"\n",
        "visited_cities += \"n\\Enter quit when you have visited\"\n",
        "\n",
        "while True:\n",
        "  city = input(visited_cities)\n",
        "\n",
        "  if city == \"quit\":\n",
        "    break\n",
        "\n",
        "  else:\n",
        "    print(f\"I would like to go to {city.title()}\")"
      ],
      "metadata": {
        "colab": {
          "base_uri": "https://localhost:8080/"
        },
        "id": "BBKif8i6C9wK",
        "outputId": "9f910c0d-2299-4fc1-e6f1-f4e00f77d0ec"
      },
      "execution_count": 5,
      "outputs": [
        {
          "name": "stdout",
          "output_type": "stream",
          "text": [
            "\n",
            "Please enter cities which you have visitedn\\Enter quit when you have visitedKarachi\n",
            "I would like to go to Karachi\n",
            "\n",
            "Please enter cities which you have visitedn\\Enter quit when you have visitedIslamabad\n",
            "I would like to go to Islamabad\n",
            "\n",
            "Please enter cities which you have visitedn\\Enter quit when you have visitedbaku\n",
            "I would like to go to Baku\n",
            "\n",
            "Please enter cities which you have visitedn\\Enter quit when you have visitedvenus\n",
            "I would like to go to Venus\n",
            "\n",
            "Please enter cities which you have visitedn\\Enter quit when you have visitedistambul\n",
            "I would like to go to Istambul\n",
            "\n",
            "Please enter cities which you have visitedn\\Enter quit when you have visitedquit\n"
          ]
        }
      ]
    },
    {
      "cell_type": "code",
      "source": [
        "current_number = 0\n",
        "while current_number < 10:\n",
        "  current_number +=1\n",
        "  if current_number % 2 ==0:\n",
        "    continue\n",
        "\n",
        "  print(current_number)"
      ],
      "metadata": {
        "colab": {
          "base_uri": "https://localhost:8080/"
        },
        "id": "w93C1xnNEiGu",
        "outputId": "1f95e3f4-9ae2-472a-8641-5d372f87a30b"
      },
      "execution_count": 8,
      "outputs": [
        {
          "output_type": "stream",
          "name": "stdout",
          "text": [
            "1\n",
            "3\n",
            "5\n",
            "7\n",
            "9\n"
          ]
        }
      ]
    },
    {
      "cell_type": "code",
      "source": [
        "x = 1\n",
        "while x <= 5:\n",
        "  print(x)\n",
        "  x += 1"
      ],
      "metadata": {
        "colab": {
          "base_uri": "https://localhost:8080/"
        },
        "id": "As6YPcAbFgi3",
        "outputId": "0b0fe0da-2965-497f-9ab8-81b2d8fd78b5"
      },
      "execution_count": 12,
      "outputs": [
        {
          "output_type": "stream",
          "name": "stdout",
          "text": [
            "1\n",
            "2\n",
            "3\n",
            "4\n",
            "5\n"
          ]
        }
      ]
    },
    {
      "cell_type": "code",
      "source": [
        "prompt = \"\\n you’ll add that topping to their pizza.\"\n",
        "prompt += \"\\n Enter Quit to end the program \"\n",
        "\n",
        "message = ''\n",
        "while message != \"quit\":\n",
        "  message = input(prompt)\n",
        "  print(message)"
      ],
      "metadata": {
        "colab": {
          "base_uri": "https://localhost:8080/"
        },
        "id": "rbGk4HYrGIZZ",
        "outputId": "6c21fd4b-3b21-4ba1-9bac-554368deaab5"
      },
      "execution_count": 13,
      "outputs": [
        {
          "output_type": "stream",
          "name": "stdout",
          "text": [
            "\n",
            " you’ll add that topping to their pizza.\n",
            " Enter Quit to end the program chicken\n",
            "chicken\n",
            "\n",
            " you’ll add that topping to their pizza.\n",
            " Enter Quit to end the program pepronni\n",
            "pepronni\n",
            "\n",
            " you’ll add that topping to their pizza.\n",
            " Enter Quit to end the program tikka\n",
            "tikka\n",
            "\n",
            " you’ll add that topping to their pizza.\n",
            " Enter Quit to end the program fajita\n",
            "fajita\n",
            "\n",
            " you’ll add that topping to their pizza.\n",
            " Enter Quit to end the program quit\n",
            "quit\n"
          ]
        }
      ]
    },
    {
      "cell_type": "code",
      "source": [
        "prompt = \"\\n You will add some topping on pizza\"\n",
        "prompt += \"\\n Enter quit to end program\"\n",
        "\n",
        "while True:\n",
        "  pizza = input(prompt)\n",
        "\n",
        "  if pizza == 'quit':\n",
        "    break\n",
        "\n",
        "  else:\n",
        "    print(f\"I would like to eat {pizza.title()}\")\n",
        "\n"
      ],
      "metadata": {
        "colab": {
          "base_uri": "https://localhost:8080/"
        },
        "id": "xrfF1UT4PfxD",
        "outputId": "170915a3-4224-403a-9d87-6d92930a51b4"
      },
      "execution_count": 19,
      "outputs": [
        {
          "name": "stdout",
          "output_type": "stream",
          "text": [
            "\n",
            " You will add some topping on pizza\n",
            " Enter quit to end programpepproni\n",
            "I would like to eat Pepproni\n",
            "\n",
            " You will add some topping on pizza\n",
            " Enter quit to end program\n",
            "I would like to eat \n",
            "\n",
            " You will add some topping on pizza\n",
            " Enter quit to end programtikka\n",
            "I would like to eat Tikka\n",
            "\n",
            " You will add some topping on pizza\n",
            " Enter quit to end programquit\n"
          ]
        }
      ]
    },
    {
      "cell_type": "code",
      "source": [
        "prompt = \"\\n Kinldy Enter Your Age\"\n",
        "prompt += \"\\n quit for end program\"\n",
        "\n",
        "while True:\n",
        "  age = input(prompt)\n",
        "  if age == 'quit':\n",
        "    break\n",
        "  else:\n",
        "    age = int(age)\n",
        "    if age < 3 :\n",
        "      price = 0\n",
        "    elif age < 13:\n",
        "      price = 10\n",
        "    else:\n",
        "      price = 15\n",
        "\n",
        "    print(f\"The ticket price is {price}\")\n",
        "\n",
        "\n"
      ],
      "metadata": {
        "colab": {
          "base_uri": "https://localhost:8080/"
        },
        "id": "nsnQDqNQT728",
        "outputId": "943cd994-cc79-4673-ed80-58c504c1d4d0"
      },
      "execution_count": 22,
      "outputs": [
        {
          "name": "stdout",
          "output_type": "stream",
          "text": [
            "\n",
            " Kinldy Enter Your Age\n",
            " quit for end program10\n",
            "The ticket price is 10\n",
            "\n",
            " Kinldy Enter Your Age\n",
            " quit for end program5\n",
            "The ticket price is 10\n",
            "\n",
            " Kinldy Enter Your Age\n",
            " quit for end program22\n",
            "The ticket price is 15\n",
            "\n",
            " Kinldy Enter Your Age\n",
            " quit for end program2\n",
            "The ticket price is 0\n",
            "\n",
            " Kinldy Enter Your Age\n",
            " quit for end program3\n",
            "The ticket price is 10\n",
            "\n",
            " Kinldy Enter Your Age\n",
            " quit for end program2\n",
            "The ticket price is 0\n",
            "\n",
            " Kinldy Enter Your Age\n",
            " quit for end programquit\n"
          ]
        }
      ]
    },
    {
      "cell_type": "code",
      "source": [
        "unconfirmed_users = ['alice', 'brian', 'candace']\n",
        "confirmed_users = []\n",
        "\n",
        "while unconfirmed_users:\n",
        "  current_user = unconfirmed_users.pop()\n",
        "\n",
        "  print(f\"Verifying user: {current_user.title()}\")\n",
        "\n",
        "  confirmed_users.append(current_user)\n",
        "\n",
        "print(\"\\nThe following users have been confirmed:\")\n",
        "for confirmed_user in confirmed_users:\n",
        "  print(confirmed_user.title())\n",
        "\n"
      ],
      "metadata": {
        "colab": {
          "base_uri": "https://localhost:8080/"
        },
        "id": "w0MY2Y1eZe3G",
        "outputId": "64cefe44-958c-42ec-ac2e-6dead3647b5a"
      },
      "execution_count": 23,
      "outputs": [
        {
          "output_type": "stream",
          "name": "stdout",
          "text": [
            "Verifying user: Candace\n",
            "Verifying user: Brian\n",
            "Verifying user: Alice\n",
            "\n",
            "The following users have been confirmed:\n",
            "Candace\n",
            "Brian\n",
            "Alice\n"
          ]
        }
      ]
    },
    {
      "cell_type": "code",
      "source": [
        "pets = ['dog', 'cat', 'dog', 'goldfish', 'cat', 'rabbit', 'cat']\n",
        "print(pets)\n",
        "while 'cat' in pets:\n",
        "  pets.remove('cat')\n",
        "print(pets)"
      ],
      "metadata": {
        "colab": {
          "base_uri": "https://localhost:8080/"
        },
        "id": "p2pomPIldPUT",
        "outputId": "0c8787fb-cdb1-4673-f2c6-c22c10ab5968"
      },
      "execution_count": 24,
      "outputs": [
        {
          "output_type": "stream",
          "name": "stdout",
          "text": [
            "['dog', 'cat', 'dog', 'goldfish', 'cat', 'rabbit', 'cat']\n",
            "['dog', 'dog', 'goldfish', 'rabbit']\n"
          ]
        }
      ]
    },
    {
      "cell_type": "code",
      "source": [
        "responses = {}\n",
        "\n",
        " # Set a flag to indicate that polling is active.\n",
        "polling_active = True\n",
        "while polling_active:\n",
        "   # Prompt for the person's name and response.\n",
        "     name = input(\"\\nWhat is your name? \")\n",
        "     response = input(\"Which mountain would you like to climb someday? \")\n",
        "\n",
        "     responses[name] = response\n",
        "\n",
        "     # Find out if anyone else is going to take the poll.\n",
        "     repeat = input(\"Would you like to let another person respond? (yes/ no) \")\n",
        "     if repeat == 'no':\n",
        "      polling_active = False\n",
        "\n",
        "     # Polling is complete. Show the results.\n",
        "      print(\"\\n--- Poll Results ---\")\n",
        "      for name, response in responses.items():\n",
        "        print(f\"{name} would like to climb {response}.\")"
      ],
      "metadata": {
        "colab": {
          "base_uri": "https://localhost:8080/"
        },
        "id": "NkCit3JfeU_d",
        "outputId": "053ae7ab-9893-401b-f7b4-c99eaaa45eb8"
      },
      "execution_count": 25,
      "outputs": [
        {
          "output_type": "stream",
          "name": "stdout",
          "text": [
            "\n",
            "What is your name? hammad\n",
            "Which mountain would you like to climb someday? k2\n",
            "Would you like to let another person respond? (yes/ no) no\n",
            "\n",
            "--- Poll Results ---\n",
            "hammad would like to climb k2.\n"
          ]
        }
      ]
    }
  ]
}