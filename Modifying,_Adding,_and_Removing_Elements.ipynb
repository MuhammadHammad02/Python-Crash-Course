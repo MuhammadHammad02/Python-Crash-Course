{
  "nbformat": 4,
  "nbformat_minor": 0,
  "metadata": {
    "colab": {
      "provenance": [],
      "authorship_tag": "ABX9TyMDc6UwJhEMj52ttwxzC14H",
      "include_colab_link": true
    },
    "kernelspec": {
      "name": "python3",
      "display_name": "Python 3"
    },
    "language_info": {
      "name": "python"
    }
  },
  "cells": [
    {
      "cell_type": "markdown",
      "metadata": {
        "id": "view-in-github",
        "colab_type": "text"
      },
      "source": [
        "<a href=\"https://colab.research.google.com/github/MuhammadHammad02/Python-Crash-Course/blob/main/Modifying%2C_Adding%2C_and_Removing_Elements.ipynb\" target=\"_parent\"><img src=\"https://colab.research.google.com/assets/colab-badge.svg\" alt=\"Open In Colab\"/></a>"
      ]
    },
    {
      "cell_type": "code",
      "execution_count": 1,
      "metadata": {
        "colab": {
          "base_uri": "https://localhost:8080/"
        },
        "id": "1W1rbC7dSB-R",
        "outputId": "ca8bc55e-e024-496b-e6a3-6e69fd13436f"
      },
      "outputs": [
        {
          "output_type": "stream",
          "name": "stdout",
          "text": [
            "['honda', 'yamaha', 'suzuki']\n"
          ]
        }
      ],
      "source": [
        "motorcycles = ['honda', 'yamaha', 'suzuki']\n",
        "print(motorcycles)"
      ]
    },
    {
      "cell_type": "code",
      "source": [
        "motorcycles[1] = 'dukati'"
      ],
      "metadata": {
        "id": "Qgt9EunuSitv"
      },
      "execution_count": 2,
      "outputs": []
    },
    {
      "cell_type": "code",
      "source": [
        "motorcycles"
      ],
      "metadata": {
        "colab": {
          "base_uri": "https://localhost:8080/"
        },
        "id": "tKliuC0pSrr8",
        "outputId": "e0b9eb45-730b-429c-a135-c5b8fa5cb7e1"
      },
      "execution_count": 3,
      "outputs": [
        {
          "output_type": "execute_result",
          "data": {
            "text/plain": [
              "['honda', 'dukati', 'suzuki']"
            ]
          },
          "metadata": {},
          "execution_count": 3
        }
      ]
    },
    {
      "cell_type": "code",
      "source": [
        "motorcycles.append('kawasaki')"
      ],
      "metadata": {
        "id": "v-aoKMwyS5xS"
      },
      "execution_count": 4,
      "outputs": []
    },
    {
      "cell_type": "code",
      "source": [
        "motorcycles"
      ],
      "metadata": {
        "colab": {
          "base_uri": "https://localhost:8080/"
        },
        "id": "ho_Ol85zTD8t",
        "outputId": "6d9d3dc7-c7b8-4551-8bc0-96e588964641"
      },
      "execution_count": 5,
      "outputs": [
        {
          "output_type": "execute_result",
          "data": {
            "text/plain": [
              "['honda', 'dukati', 'suzuki', 'kawasaki']"
            ]
          },
          "metadata": {},
          "execution_count": 5
        }
      ]
    },
    {
      "cell_type": "code",
      "source": [
        "motorcycle = []\n",
        "motorcycle.append('honda')\n",
        "motorcycle.append('yamaha')\n",
        "motorcycle.append('dukati')\n",
        "motorcycle.append('kawasaki')"
      ],
      "metadata": {
        "id": "IiPGpbzuTLSR"
      },
      "execution_count": 6,
      "outputs": []
    },
    {
      "cell_type": "code",
      "source": [
        "motorcycle"
      ],
      "metadata": {
        "colab": {
          "base_uri": "https://localhost:8080/"
        },
        "id": "yr4BDO-lTdRe",
        "outputId": "08d070f4-0d7b-42b2-ea58-38fcc77db3cb"
      },
      "execution_count": 7,
      "outputs": [
        {
          "output_type": "execute_result",
          "data": {
            "text/plain": [
              "['honda', 'yamaha', 'dukati', 'kawasaki']"
            ]
          },
          "metadata": {},
          "execution_count": 7
        }
      ]
    },
    {
      "cell_type": "code",
      "source": [
        "motorcycle.insert(0, 'suzuki')"
      ],
      "metadata": {
        "id": "BKS2E5T4Tlih"
      },
      "execution_count": 8,
      "outputs": []
    },
    {
      "cell_type": "code",
      "source": [
        "motorcycle"
      ],
      "metadata": {
        "colab": {
          "base_uri": "https://localhost:8080/"
        },
        "id": "1SsU73oZTl9y",
        "outputId": "acb5e98b-fb86-4099-c37a-a421de452789"
      },
      "execution_count": 9,
      "outputs": [
        {
          "output_type": "execute_result",
          "data": {
            "text/plain": [
              "['suzuki', 'honda', 'yamaha', 'dukati', 'kawasaki']"
            ]
          },
          "metadata": {},
          "execution_count": 9
        }
      ]
    },
    {
      "cell_type": "code",
      "source": [
        "del motorcycle[1]"
      ],
      "metadata": {
        "id": "JsFIAO9YT7aW"
      },
      "execution_count": 10,
      "outputs": []
    },
    {
      "cell_type": "code",
      "source": [
        "motorcycle"
      ],
      "metadata": {
        "colab": {
          "base_uri": "https://localhost:8080/"
        },
        "id": "BgPo5ef7UBjl",
        "outputId": "808cc61e-95ec-4c71-9443-3f59a865763a"
      },
      "execution_count": 11,
      "outputs": [
        {
          "output_type": "execute_result",
          "data": {
            "text/plain": [
              "['suzuki', 'yamaha', 'dukati', 'kawasaki']"
            ]
          },
          "metadata": {},
          "execution_count": 11
        }
      ]
    },
    {
      "cell_type": "code",
      "source": [
        "popped_motorcycle = motorcycle.pop()"
      ],
      "metadata": {
        "id": "cVnt4TMrUOQO"
      },
      "execution_count": 12,
      "outputs": []
    },
    {
      "cell_type": "code",
      "source": [
        "print(motorcycle)"
      ],
      "metadata": {
        "colab": {
          "base_uri": "https://localhost:8080/"
        },
        "id": "eCFlKx5XUV32",
        "outputId": "2e2c93d7-a65e-4b58-b0f4-1f45202c8fdf"
      },
      "execution_count": 13,
      "outputs": [
        {
          "output_type": "stream",
          "name": "stdout",
          "text": [
            "['suzuki', 'yamaha', 'dukati']\n"
          ]
        }
      ]
    },
    {
      "cell_type": "code",
      "source": [
        "print(popped_motorcycle)"
      ],
      "metadata": {
        "colab": {
          "base_uri": "https://localhost:8080/"
        },
        "id": "mZhlSg1fUZ1r",
        "outputId": "9d977812-1e76-42d8-b688-5839da9564a5"
      },
      "execution_count": 14,
      "outputs": [
        {
          "output_type": "stream",
          "name": "stdout",
          "text": [
            "kawasaki\n"
          ]
        }
      ]
    },
    {
      "cell_type": "code",
      "source": [
        "last_owned = motorcycle.pop()\n",
        "print(f\"The last motorcycle I owned was a {last_owned.title()}.\")"
      ],
      "metadata": {
        "colab": {
          "base_uri": "https://localhost:8080/"
        },
        "id": "wbCbA61sUm8T",
        "outputId": "206b0bb5-dd60-45d2-c249-6d84939a3cea"
      },
      "execution_count": 15,
      "outputs": [
        {
          "output_type": "stream",
          "name": "stdout",
          "text": [
            "The last motorcycle I owned was a Dukati.\n"
          ]
        }
      ]
    },
    {
      "cell_type": "code",
      "source": [
        "first_owned = motorcycles.pop(0)\n",
        "print(f\"The first motorcycle I owned was a {first_owned.title()}.\")"
      ],
      "metadata": {
        "colab": {
          "base_uri": "https://localhost:8080/"
        },
        "id": "AEran-wfUwP-",
        "outputId": "eabb6cc6-84d4-46cb-91af-b2e32d70c34e"
      },
      "execution_count": 16,
      "outputs": [
        {
          "output_type": "stream",
          "name": "stdout",
          "text": [
            "The first motorcycle I owned was a Honda.\n"
          ]
        }
      ]
    },
    {
      "cell_type": "code",
      "source": [
        "motorcycles = ['honda', 'yamaha', 'suzuki', 'ducati']\n",
        "print(motorcycles)\n",
        "motorcycles.remove('ducati')\n",
        "print(motorcycles)"
      ],
      "metadata": {
        "colab": {
          "base_uri": "https://localhost:8080/"
        },
        "id": "ttxrW_4PU5xo",
        "outputId": "240ecdff-9a5e-4505-f7e8-08b9cbc7d5f8"
      },
      "execution_count": 17,
      "outputs": [
        {
          "output_type": "stream",
          "name": "stdout",
          "text": [
            "['honda', 'yamaha', 'suzuki', 'ducati']\n",
            "['honda', 'yamaha', 'suzuki']\n"
          ]
        }
      ]
    },
    {
      "cell_type": "code",
      "source": [
        "too_expensive = 'honda'\n",
        "motorcycles.remove(too_expensive)\n",
        "print(motorcycles)\n",
        "print(f\"\\nA {too_expensive.title()} is too expensive for me.\")"
      ],
      "metadata": {
        "colab": {
          "base_uri": "https://localhost:8080/"
        },
        "id": "0Uwj_QFQVHBa",
        "outputId": "275eec7d-b280-4307-877f-e90fd012a147"
      },
      "execution_count": 19,
      "outputs": [
        {
          "output_type": "stream",
          "name": "stdout",
          "text": [
            "['yamaha', 'suzuki']\n",
            "\n",
            "A Honda is too expensive for me.\n"
          ]
        }
      ]
    }
  ]
}