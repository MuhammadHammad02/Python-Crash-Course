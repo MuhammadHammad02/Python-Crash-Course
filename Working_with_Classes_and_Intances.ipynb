{
  "nbformat": 4,
  "nbformat_minor": 0,
  "metadata": {
    "colab": {
      "provenance": [],
      "authorship_tag": "ABX9TyNIj8GErjCRC/pT+5OtW93R",
      "include_colab_link": true
    },
    "kernelspec": {
      "name": "python3",
      "display_name": "Python 3"
    },
    "language_info": {
      "name": "python"
    }
  },
  "cells": [
    {
      "cell_type": "markdown",
      "metadata": {
        "id": "view-in-github",
        "colab_type": "text"
      },
      "source": [
        "<a href=\"https://colab.research.google.com/github/MuhammadHammad02/Python-Crash-Course/blob/main/Working_with_Classes_and_Intances.ipynb\" target=\"_parent\"><img src=\"https://colab.research.google.com/assets/colab-badge.svg\" alt=\"Open In Colab\"/></a>"
      ]
    },
    {
      "cell_type": "code",
      "execution_count": 10,
      "metadata": {
        "colab": {
          "base_uri": "https://localhost:8080/"
        },
        "id": "yXeiRzXwvXdQ",
        "outputId": "847fcf97-9fcb-47f9-aa98-0997f63e9a61"
      },
      "outputs": [
        {
          "output_type": "stream",
          "name": "stdout",
          "text": [
            "2019 Audi A4\n",
            "This car has 28 miles on it\n",
            "This car has 29 miles on it\n",
            "2024 Citi Hondai\n",
            "This car has 23500 miles on it\n",
            "This car has 23650 miles on it\n"
          ]
        }
      ],
      "source": [
        "class Car:\n",
        "  def __init__ (self, make, model, year):\n",
        "    self.make = make\n",
        "    self.model = model\n",
        "    self.year = year\n",
        "    self.odometer = 0\n",
        "\n",
        "  def get_descriptive_model(self):\n",
        "    long_name =f\"{self.year} {self.make} {self.model}\"\n",
        "    return long_name.title()\n",
        "\n",
        "  def read_odo_meter(self):\n",
        "    print(f\"This car has {self.odometer} miles on it\")\n",
        "\n",
        "  def update_odometer(self,mileage):\n",
        "\n",
        "    if mileage > self.odometer:\n",
        "      self.odometer = mileage\n",
        "\n",
        "    else:\n",
        "      print(\"you cannot roll back an odometer\")\n",
        "\n",
        "  def increament_odo_meter(self,miles):\n",
        "    self.odometer += miles\n",
        "\n",
        "\n",
        "my_new_car = Car(\"audi\", 'a4', 2019)\n",
        "print(my_new_car.get_descriptive_model())\n",
        "my_new_car.odometer = 28\n",
        "my_new_car.read_odo_meter()\n",
        "my_new_car.update_odometer(29)\n",
        "my_new_car.read_odo_meter()\n",
        "\n",
        "my_used_car = Car(\"Citi\", \"Hondai\", 2024)\n",
        "print(my_used_car.get_descriptive_model())\n",
        "\n",
        "my_used_car.update_odometer(23_500)\n",
        "my_used_car.read_odo_meter()\n",
        "\n",
        "my_used_car.increament_odo_meter(150)\n",
        "my_used_car.read_odo_meter()\n"
      ]
    }
  ]
}