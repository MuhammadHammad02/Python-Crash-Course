{
 "cells": [
  {
   "cell_type": "code",
   "execution_count": 3,
   "id": "e762c37c-a505-42e6-9549-286ddb5ae152",
   "metadata": {},
   "outputs": [],
   "source": [
    "def greet_func():\n",
    "    \"\"\" Disply a simple greetingh\"\"\"\n",
    "    print(\"Hello\")"
   ]
  },
  {
   "cell_type": "code",
   "execution_count": 4,
   "id": "c0e1e8f9-1d2c-43ab-894f-ae923b7938e1",
   "metadata": {},
   "outputs": [
    {
     "name": "stdout",
     "output_type": "stream",
     "text": [
      "Hello\n"
     ]
    }
   ],
   "source": [
    "greet_func()"
   ]
  },
  {
   "cell_type": "code",
   "execution_count": null,
   "id": "5db12ef5-5ad0-4b67-bafd-39e2ffa907a9",
   "metadata": {},
   "outputs": [],
   "source": []
  },
  {
   "cell_type": "code",
   "execution_count": 5,
   "id": "84c5b958-13a1-4507-8725-8b33d2c2b5e9",
   "metadata": {},
   "outputs": [],
   "source": [
    "def greet_user(username):\n",
    "    print(f\" My name is {username.upper()}\")\n",
    "    "
   ]
  },
  {
   "cell_type": "code",
   "execution_count": 8,
   "id": "58c4b9ed-e9c8-4a25-a116-c91077e43e3a",
   "metadata": {},
   "outputs": [
    {
     "name": "stdout",
     "output_type": "stream",
     "text": [
      " My name is HAMMAD\n"
     ]
    }
   ],
   "source": [
    "greet_user('hammad')"
   ]
  },
  {
   "cell_type": "code",
   "execution_count": 9,
   "id": "f7b45808-05fb-4f80-bf86-f19799fdc0bf",
   "metadata": {},
   "outputs": [],
   "source": [
    "def display_message():\n",
    "    print(\"Hello, I am learning Python Programming \")\n"
   ]
  },
  {
   "cell_type": "code",
   "execution_count": 10,
   "id": "089e3054-959d-4d9a-8e25-e098c889615f",
   "metadata": {},
   "outputs": [
    {
     "name": "stdout",
     "output_type": "stream",
     "text": [
      "Hello, I am learning Python Programming \n"
     ]
    }
   ],
   "source": [
    "display_message()"
   ]
  },
  {
   "cell_type": "code",
   "execution_count": 11,
   "id": "b73102ef-c3ca-486c-9de6-505d61b543b7",
   "metadata": {},
   "outputs": [],
   "source": [
    "def favourite_book(book_title):\n",
    "    print(f\"One of my favourite book is {book_title.title()}.\")"
   ]
  },
  {
   "cell_type": "code",
   "execution_count": 12,
   "id": "1affaa14-7b45-466b-971f-5b02f63de630",
   "metadata": {},
   "outputs": [
    {
     "name": "stdout",
     "output_type": "stream",
     "text": [
      "One of my favourite book is Alice In Wonderland.\n"
     ]
    }
   ],
   "source": [
    "favourite_book('Alice in wonderland')"
   ]
  },
  {
   "cell_type": "code",
   "execution_count": null,
   "id": "68ac4763-f494-48cf-93b2-4d6b8d0b2fae",
   "metadata": {},
   "outputs": [],
   "source": []
  }
 ],
 "metadata": {
  "kernelspec": {
   "display_name": "anaconda-panel-2023.05-py310",
   "language": "python",
   "name": "conda-env-anaconda-panel-2023.05-py310-py"
  },
  "language_info": {
   "codemirror_mode": {
    "name": "ipython",
    "version": 3
   },
   "file_extension": ".py",
   "mimetype": "text/x-python",
   "name": "python",
   "nbconvert_exporter": "python",
   "pygments_lexer": "ipython3",
   "version": "3.11.5"
  }
 },
 "nbformat": 4,
 "nbformat_minor": 5
}
