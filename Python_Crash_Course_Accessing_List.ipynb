{
  "nbformat": 4,
  "nbformat_minor": 0,
  "metadata": {
    "colab": {
      "provenance": [],
      "authorship_tag": "ABX9TyOBSFqw2bu446PtHjywvKJS",
      "include_colab_link": true
    },
    "kernelspec": {
      "name": "python3",
      "display_name": "Python 3"
    },
    "language_info": {
      "name": "python"
    }
  },
  "cells": [
    {
      "cell_type": "markdown",
      "metadata": {
        "id": "view-in-github",
        "colab_type": "text"
      },
      "source": [
        "<a href=\"https://colab.research.google.com/github/MuhammadHammad02/Python-Crash-Course/blob/main/Python_Crash_Course_Accessing_List.ipynb\" target=\"_parent\"><img src=\"https://colab.research.google.com/assets/colab-badge.svg\" alt=\"Open In Colab\"/></a>"
      ]
    },
    {
      "cell_type": "code",
      "execution_count": 1,
      "metadata": {
        "colab": {
          "base_uri": "https://localhost:8080/"
        },
        "id": "OUEMbeYYjiCs",
        "outputId": "06eb19d1-410f-45f7-860e-1e4b0864bf40"
      },
      "outputs": [
        {
          "output_type": "stream",
          "name": "stdout",
          "text": [
            "['trek', 'cannondale', 'redline', 'specialized']\n"
          ]
        }
      ],
      "source": [
        "bicycles = ['trek', 'cannondale', 'redline', 'specialized']\n",
        "print(bicycles)"
      ]
    },
    {
      "cell_type": "code",
      "source": [
        "print(bicycles[0])\n",
        "print(bicycles[1])\n",
        "print(bicycles[2])\n",
        "print(bicycles[3])"
      ],
      "metadata": {
        "colab": {
          "base_uri": "https://localhost:8080/"
        },
        "id": "sCiD8uJojqfn",
        "outputId": "02652ce5-20ea-45e4-b694-444bc8d73967"
      },
      "execution_count": 7,
      "outputs": [
        {
          "output_type": "stream",
          "name": "stdout",
          "text": [
            "trek\n",
            "cannondale\n",
            "redline\n",
            "specialized\n"
          ]
        }
      ]
    },
    {
      "cell_type": "code",
      "source": [
        "message = f\"My first bicycle was a {bicycles[1].title()}.\"\n",
        "print(message)"
      ],
      "metadata": {
        "colab": {
          "base_uri": "https://localhost:8080/"
        },
        "id": "BdzvT87bkx6a",
        "outputId": "9b823be0-6522-43ea-8dea-fd84cdfa76a0"
      },
      "execution_count": 9,
      "outputs": [
        {
          "output_type": "stream",
          "name": "stdout",
          "text": [
            "My first bicycle was a Cannondale.\n"
          ]
        }
      ]
    },
    {
      "cell_type": "code",
      "source": [
        "print(bicycles[0].title())\n",
        "print(bicycles[1].upper())\n",
        "print(bicycles[2].lower())"
      ],
      "metadata": {
        "colab": {
          "base_uri": "https://localhost:8080/"
        },
        "id": "8-S44QGckJKX",
        "outputId": "692e478f-9ffa-490a-95dd-88f2b0c2922a"
      },
      "execution_count": 4,
      "outputs": [
        {
          "output_type": "stream",
          "name": "stdout",
          "text": [
            "Trek\n",
            "CANNONDALE\n",
            "redline\n"
          ]
        }
      ]
    },
    {
      "cell_type": "code",
      "source": [
        "names = [\"Ayaz\", \"Shehbaz\",\"Anas\",\"Talha\",\"Sajid\"]"
      ],
      "metadata": {
        "id": "5KM8z-7nlO9e"
      },
      "execution_count": 10,
      "outputs": []
    },
    {
      "cell_type": "code",
      "source": [
        "print(names)"
      ],
      "metadata": {
        "colab": {
          "base_uri": "https://localhost:8080/"
        },
        "id": "-gpj9Ew8lZyM",
        "outputId": "24b4db8f-cd96-49d7-95cf-27edfa29e4f7"
      },
      "execution_count": 11,
      "outputs": [
        {
          "output_type": "stream",
          "name": "stdout",
          "text": [
            "['Ayaz', 'Shehbaz', 'Anas', 'Talha', 'Sajid']\n"
          ]
        }
      ]
    },
    {
      "cell_type": "code",
      "source": [
        "message = f\" {names[0].title()}, You are my best friend\"\n",
        "print(message)"
      ],
      "metadata": {
        "colab": {
          "base_uri": "https://localhost:8080/"
        },
        "id": "N03MjVPplqXR",
        "outputId": "ef7290ab-e56f-4734-cd1a-4a00c861b706"
      },
      "execution_count": 12,
      "outputs": [
        {
          "output_type": "stream",
          "name": "stdout",
          "text": [
            " Ayaz, You are my best friend\n"
          ]
        }
      ]
    },
    {
      "cell_type": "code",
      "source": [
        "\n",
        "print(f\"{names[0]} you are my childhood friend\")\n",
        "print(f\"{names[1]} you are my childhood friend\")\n",
        "print(f\"{names[2]} you are my childhood friend\")\n",
        "print(f\"{names[3]} you are my childhood friend\")\n",
        "print(f\"{names[4]} you are my childhood friend\")\n"
      ],
      "metadata": {
        "colab": {
          "base_uri": "https://localhost:8080/"
        },
        "id": "D-RVm12vmNJ4",
        "outputId": "03b75c7b-cc31-461f-eb80-0a353074c956"
      },
      "execution_count": 18,
      "outputs": [
        {
          "output_type": "stream",
          "name": "stdout",
          "text": [
            "Ayaz you are my childhood friend\n",
            "Shehbaz you are my childhood friend\n",
            "Anas you are my childhood friend\n",
            "Talha you are my childhood friend\n",
            "Sajid you are my childhood friend\n"
          ]
        }
      ]
    }
  ]
}