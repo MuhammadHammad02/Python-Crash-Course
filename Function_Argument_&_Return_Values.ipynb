{
  "nbformat": 4,
  "nbformat_minor": 0,
  "metadata": {
    "colab": {
      "provenance": [],
      "authorship_tag": "ABX9TyPd9uNgxu6/g4pHmOu3MIzG",
      "include_colab_link": true
    },
    "kernelspec": {
      "name": "python3",
      "display_name": "Python 3"
    },
    "language_info": {
      "name": "python"
    }
  },
  "cells": [
    {
      "cell_type": "markdown",
      "metadata": {
        "id": "view-in-github",
        "colab_type": "text"
      },
      "source": [
        "<a href=\"https://colab.research.google.com/github/MuhammadHammad02/Python-Crash-Course/blob/main/Function_Argument_%26_Return_Values.ipynb\" target=\"_parent\"><img src=\"https://colab.research.google.com/assets/colab-badge.svg\" alt=\"Open In Colab\"/></a>"
      ]
    },
    {
      "cell_type": "code",
      "execution_count": 1,
      "metadata": {
        "id": "YmyL0PCpIFo4"
      },
      "outputs": [],
      "source": [
        "def greeting ():\n",
        "  print(\"Hello, Python\")"
      ]
    },
    {
      "cell_type": "code",
      "source": [
        "greeting()"
      ],
      "metadata": {
        "colab": {
          "base_uri": "https://localhost:8080/"
        },
        "id": "dFIsQ_JiJmZ3",
        "outputId": "0de33d75-eb5a-440f-ee21-21250792fdea"
      },
      "execution_count": 2,
      "outputs": [
        {
          "output_type": "stream",
          "name": "stdout",
          "text": [
            "Hello, Python\n"
          ]
        }
      ]
    },
    {
      "cell_type": "code",
      "source": [
        "def greet(name):\n",
        "  print(f\"Hello,{name.title()}\")"
      ],
      "metadata": {
        "id": "oi_nQBs_Jrml"
      },
      "execution_count": 3,
      "outputs": []
    },
    {
      "cell_type": "code",
      "source": [
        "greet(\"hammad\")"
      ],
      "metadata": {
        "colab": {
          "base_uri": "https://localhost:8080/"
        },
        "id": "p0yvLE3hJ69-",
        "outputId": "edbaf234-2ced-43a8-ed9b-9a52745111a4"
      },
      "execution_count": 5,
      "outputs": [
        {
          "output_type": "stream",
          "name": "stdout",
          "text": [
            "Hello,Hammad\n"
          ]
        }
      ]
    },
    {
      "cell_type": "code",
      "source": [
        "def pet(animal_type, pet_name):\n",
        "  print(f\"I have a {animal_type.title()}\")\n",
        "  print(f\"My {animal_type} name is {pet_name}\")"
      ],
      "metadata": {
        "id": "j-Mz64iiKWDL"
      },
      "execution_count": 6,
      "outputs": []
    },
    {
      "cell_type": "code",
      "source": [
        "pet(\"Dog\", \"Tiger\")"
      ],
      "metadata": {
        "colab": {
          "base_uri": "https://localhost:8080/"
        },
        "id": "uKZoDkULK6NR",
        "outputId": "3c86a1da-2619-43cc-f0af-4bd18f0147d5"
      },
      "execution_count": 7,
      "outputs": [
        {
          "output_type": "stream",
          "name": "stdout",
          "text": [
            "I have a Dog\n",
            "My Dog name is Tiger\n"
          ]
        }
      ]
    },
    {
      "cell_type": "code",
      "source": [
        "pet(animal_type= \"Cat\", pet_name= \"Citty\")"
      ],
      "metadata": {
        "colab": {
          "base_uri": "https://localhost:8080/"
        },
        "id": "nY_rcDvFLCHF",
        "outputId": "253b74de-c476-4ece-aef2-bfa58674600e"
      },
      "execution_count": 8,
      "outputs": [
        {
          "output_type": "stream",
          "name": "stdout",
          "text": [
            "I have a Cat\n",
            "My Cat name is Citty\n"
          ]
        }
      ]
    },
    {
      "cell_type": "code",
      "source": [
        "def pet(animal_type, pet_name=\"Fluffy\"):\n",
        "  print(f\"I have a {animal_type.title()}\")\n",
        "  print(f\"My {animal_type} name is {pet_name}\")\n"
      ],
      "metadata": {
        "id": "d2DnbXjvLiyy"
      },
      "execution_count": 9,
      "outputs": []
    },
    {
      "cell_type": "code",
      "source": [
        "pet(\"Puppy\", pet_name=\"Pappu\")"
      ],
      "metadata": {
        "colab": {
          "base_uri": "https://localhost:8080/"
        },
        "id": "UNCjbRBvMWBD",
        "outputId": "04508d17-cf80-4881-d22b-c4aa27d888b1"
      },
      "execution_count": 11,
      "outputs": [
        {
          "output_type": "stream",
          "name": "stdout",
          "text": [
            "I have a Puppy\n",
            "My Puppy name is Pappu\n"
          ]
        }
      ]
    },
    {
      "cell_type": "code",
      "source": [
        "# Returning Value\n",
        "def get_name(first_name,last_name):\n",
        "  full_name =f\"My name is {first_name} {last_name}\"\n",
        "  return full_name.title()\n",
        "\n",
        "\n",
        "megician = get_name(\"Muhammad\",\"Hammad\")\n",
        "print(megician)"
      ],
      "metadata": {
        "colab": {
          "base_uri": "https://localhost:8080/"
        },
        "id": "-WbMgFMfNU5a",
        "outputId": "d88fa809-988a-4029-8a36-468742f1247c"
      },
      "execution_count": 12,
      "outputs": [
        {
          "output_type": "stream",
          "name": "stdout",
          "text": [
            "My Name Is Muhammad Hammad\n"
          ]
        }
      ]
    },
    {
      "cell_type": "code",
      "source": [],
      "metadata": {
        "id": "dVJmlF7CRRMy"
      },
      "execution_count": null,
      "outputs": []
    },
    {
      "cell_type": "code",
      "source": [
        "def user_name(first_name,last_name):\n",
        "  full_name =f\"My name is {first_name} {last_name}\"\n",
        "  return full_name.title()\n",
        "\n",
        "while True:\n",
        "  print(\"\\nPlease tell me your first name \")\n",
        "  print(\"\\n enter q to quit program\")\n",
        "  f_name = input(\"First Name\")\n",
        "  if f_name == \"q\":\n",
        "    break\n",
        "  l_name = input('Last Name')\n",
        "  if l_name == \"q\":\n",
        "    break\n",
        "\n",
        "  name_formated = user_name(f_name, l_name)\n",
        "  print(f\"\\n Hello, {name_formated}\")\n",
        "\n"
      ],
      "metadata": {
        "colab": {
          "base_uri": "https://localhost:8080/"
        },
        "id": "4cKG9_DBOChg",
        "outputId": "4b516b62-8ffa-43c0-95fa-8fb8c973d073"
      },
      "execution_count": 13,
      "outputs": [
        {
          "name": "stdout",
          "output_type": "stream",
          "text": [
            "\n",
            "Please tell me your first name \n",
            "\n",
            " enter q to quit program\n",
            "First NameHammad\n",
            "Last NameKhan\n",
            "\n",
            " Hello, My Name Is Hammad Khan\n",
            "\n",
            "Please tell me your first name \n",
            "\n",
            " enter q to quit program\n",
            "First Nameq\n"
          ]
        }
      ]
    },
    {
      "cell_type": "code",
      "source": [],
      "metadata": {
        "id": "tyCDTYfeRdyI"
      },
      "execution_count": null,
      "outputs": []
    }
  ]
}