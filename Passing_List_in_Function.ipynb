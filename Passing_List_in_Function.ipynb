{
  "nbformat": 4,
  "nbformat_minor": 0,
  "metadata": {
    "colab": {
      "provenance": [],
      "authorship_tag": "ABX9TyOqpqxEQs1WZ7IlFNe29auS",
      "include_colab_link": true
    },
    "kernelspec": {
      "name": "python3",
      "display_name": "Python 3"
    },
    "language_info": {
      "name": "python"
    }
  },
  "cells": [
    {
      "cell_type": "markdown",
      "metadata": {
        "id": "view-in-github",
        "colab_type": "text"
      },
      "source": [
        "<a href=\"https://colab.research.google.com/github/MuhammadHammad02/Python-Crash-Course/blob/main/Passing_List_in_Function.ipynb\" target=\"_parent\"><img src=\"https://colab.research.google.com/assets/colab-badge.svg\" alt=\"Open In Colab\"/></a>"
      ]
    },
    {
      "cell_type": "code",
      "execution_count": 2,
      "metadata": {
        "colab": {
          "base_uri": "https://localhost:8080/"
        },
        "id": "tIOD_P4MDphg",
        "outputId": "61eed690-78a6-4cf7-b0b7-339736d3a8ff"
      },
      "outputs": [
        {
          "output_type": "stream",
          "name": "stdout",
          "text": [
            "Hello,Hammad\n",
            "Hello,Ayaz\n",
            "Hello,Shehbaz\n",
            "Hello,Anas\n"
          ]
        }
      ],
      "source": [
        "def greet_user(names):\n",
        "  for name in names:\n",
        "    msg = f'Hello,{name.title()}'\n",
        "    print(msg)\n",
        "user_name = ['hammad','ayaz','shehbaz','anas']\n",
        "greet_user(user_name)\n"
      ]
    },
    {
      "cell_type": "code",
      "source": [
        "def printed_model(unprinted_design,completed_model):\n",
        "  while unprinted_design:\n",
        "    current_design = unprinted_design.pop()\n",
        "    print(f'Printing model:{current_design}')\n",
        "    completed_model.append(current_design)\n",
        "\n",
        "def shoe_completed_model(completed_model):\n",
        "  print(\"\\nThe following model have been printed\")\n",
        "  for complete_model in completed_model:\n",
        "    print(complete_model)\n",
        "\n",
        "unprinted_design = ['phone case', \"phone cover\", 'robot pedant']\n",
        "completed_model = []\n",
        "\n",
        "printed_model(unprinted_design,completed_model)\n",
        "shoe_completed_model(completed_model)\n",
        "\n",
        "print(f'Unprinted Design:{unprinted_design}')\n",
        "\n",
        "print(f'Completed Model:{completed_model}')\n"
      ],
      "metadata": {
        "colab": {
          "base_uri": "https://localhost:8080/"
        },
        "id": "9da6RSxPN7mb",
        "outputId": "70189e83-b715-400d-840f-caca095750eb"
      },
      "execution_count": 4,
      "outputs": [
        {
          "output_type": "stream",
          "name": "stdout",
          "text": [
            "Printing model:robot pedant\n",
            "Printing model:phone cover\n",
            "Printing model:phone case\n",
            "\n",
            "The following model have been printed\n",
            "robot pedant\n",
            "phone cover\n",
            "phone case\n",
            "Unprinted Design:[]\n",
            "Completed Model:['robot pedant', 'phone cover', 'phone case']\n"
          ]
        }
      ]
    },
    {
      "cell_type": "code",
      "source": [],
      "metadata": {
        "id": "LIs_flniSg2r"
      },
      "execution_count": null,
      "outputs": []
    }
  ]
}