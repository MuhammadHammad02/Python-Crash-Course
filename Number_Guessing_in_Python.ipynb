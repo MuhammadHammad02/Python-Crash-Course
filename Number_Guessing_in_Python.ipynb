{
  "nbformat": 4,
  "nbformat_minor": 0,
  "metadata": {
    "colab": {
      "provenance": [],
      "authorship_tag": "ABX9TyPLyNnMyNgY7dzyWpcKKg+4",
      "include_colab_link": true
    },
    "kernelspec": {
      "name": "python3",
      "display_name": "Python 3"
    },
    "language_info": {
      "name": "python"
    }
  },
  "cells": [
    {
      "cell_type": "markdown",
      "metadata": {
        "id": "view-in-github",
        "colab_type": "text"
      },
      "source": [
        "<a href=\"https://colab.research.google.com/github/MuhammadHammad02/Python-Crash-Course/blob/main/Number_Guessing_in_Python.ipynb\" target=\"_parent\"><img src=\"https://colab.research.google.com/assets/colab-badge.svg\" alt=\"Open In Colab\"/></a>"
      ]
    },
    {
      "cell_type": "code",
      "source": [
        "import random\n",
        "number = random.randint(1,10)\n",
        "\n",
        "\n",
        "\n",
        "user_n= input(\"Please enter your name\")\n",
        "print(f\"Hello,{user_n} please enter number 1 to 10 and you have 3 chances\")\n",
        "number_guessing =0\n",
        "while number_guessing< 3:\n",
        "  guess = int(input())\n",
        "  number_guessing += 1\n",
        "  if guess < number:\n",
        "    print(\"Your number is too low\")\n",
        "  if guess > number:\n",
        "    print(\"Your number is too high\")\n",
        "  if guess == number:\n",
        "    break\n",
        "if guess == number:\n",
        "  print(f\"Congratulation you win {guess} is correct\")\n",
        "else:\n",
        "  print(\"Try again you have lost your all three chances\")\n",
        "\n"
      ],
      "metadata": {
        "colab": {
          "base_uri": "https://localhost:8080/"
        },
        "id": "5OPNdx9bGEXQ",
        "outputId": "43974f27-c6ca-417b-c1da-18efdfd881bb"
      },
      "execution_count": 13,
      "outputs": [
        {
          "output_type": "stream",
          "name": "stdout",
          "text": [
            "Please enter your nameHammad\n",
            "Hello,Hammad please enter number 1 to 10 and you have 3 chances\n",
            "10\n",
            "Your number is too high\n",
            "8\n",
            "Your number is too high\n",
            "6\n",
            "Your number is too high\n",
            "Try again you have lost your all three chances\n"
          ]
        }
      ]
    }
  ]
}