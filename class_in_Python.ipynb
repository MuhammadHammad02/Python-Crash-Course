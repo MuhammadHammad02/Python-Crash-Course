{
  "nbformat": 4,
  "nbformat_minor": 0,
  "metadata": {
    "colab": {
      "provenance": [],
      "authorship_tag": "ABX9TyNPyeXLdgL+GBvRbnGs2Zb1",
      "include_colab_link": true
    },
    "kernelspec": {
      "name": "python3",
      "display_name": "Python 3"
    },
    "language_info": {
      "name": "python"
    }
  },
  "cells": [
    {
      "cell_type": "markdown",
      "metadata": {
        "id": "view-in-github",
        "colab_type": "text"
      },
      "source": [
        "<a href=\"https://colab.research.google.com/github/MuhammadHammad02/Python-Crash-Course/blob/main/class_in_Python.ipynb\" target=\"_parent\"><img src=\"https://colab.research.google.com/assets/colab-badge.svg\" alt=\"Open In Colab\"/></a>"
      ]
    },
    {
      "cell_type": "code",
      "execution_count": 7,
      "metadata": {
        "colab": {
          "base_uri": "https://localhost:8080/"
        },
        "id": "Be_19p78MTef",
        "outputId": "55d63660-667e-4a3e-9da5-54074ce19ae9"
      },
      "outputs": [
        {
          "output_type": "stream",
          "name": "stdout",
          "text": [
            "My dog name is Willie\n",
            "My dog age is 6 year old\n",
            "Willie is now sitting\n",
            "Your dog name is Lucy\n",
            "Your dog age is 3 year old\n",
            "Lucy is now sitting\n",
            "Willie is rolled over\n",
            "Lucy is rolled over\n"
          ]
        }
      ],
      "source": [
        "class Dog:\n",
        "  def __init__(self, name, age):\n",
        "    self.name = name\n",
        "    self.age = age\n",
        "\n",
        "  def sit(self):\n",
        "    print(f\"{self.name} is now sitting\")\n",
        "\n",
        "  def roll_over(self):\n",
        "    print(f\"{self.name} is rolled over\")\n",
        "\n",
        "my_dog = Dog(\"Willie\", 6)\n",
        "your_dog = Dog(\"Lucy\", 3)\n",
        "\n",
        "print(f\"My dog name is {my_dog.name}\")\n",
        "print(f\"My dog age is {my_dog.age} year old\")\n",
        "my_dog.sit()\n",
        "\n",
        "print(f\"Your dog name is {your_dog.name}\")\n",
        "print(f\"Your dog age is {your_dog.age} year old\")\n",
        "your_dog.sit()\n",
        "\n",
        "my_dog.roll_over()\n",
        "\n",
        "your_dog.roll_over()\n"
      ]
    },
    {
      "cell_type": "code",
      "source": [
        "class Resturant:\n",
        "  def __init__(self,resturant_name, cuisine_type):\n",
        "    self.resturant_name = resturant_name\n",
        "    self.cuisine_type = cuisine_type\n",
        "\n",
        "  def describe_resturant(self):\n",
        "    print(f\"The resturant is called {self.resturant_name}\")\n",
        "    print(f\"The cuisine type is {self.cuisine_type}\")\n",
        "\n",
        "  def open_resturant(self):\n",
        "    print(f\"The resturant {self.resturant_name} is open\")\n",
        "\n",
        "resturant = Resturant(\"Brasserie\", \"French\")\n",
        "print(f\"Resturant name: {resturant.resturant_name}\")\n",
        "print(f\"Resturant cuisine: {resturant.cuisine_type}\")\n",
        "\n",
        "resturant.describe_resturant()\n",
        "resturant.open_resturant()"
      ],
      "metadata": {
        "colab": {
          "base_uri": "https://localhost:8080/"
        },
        "id": "tWdgWdjTdHWQ",
        "outputId": "ca9f3fd7-f950-41cb-b1d3-ef2d61e0075c"
      },
      "execution_count": 9,
      "outputs": [
        {
          "output_type": "stream",
          "name": "stdout",
          "text": [
            "Resturant name: Brasserie\n",
            "Resturant cuisine: French\n",
            "The resturant is called Brasserie\n",
            "The cuisine type is French\n",
            "The resturant Brasserie is open\n"
          ]
        }
      ]
    },
    {
      "cell_type": "code",
      "source": [
        "french_resturant = Resturant(\"Brasserie\", \"French\")\n",
        "italian_resturant = Resturant(\"Luigi\", \"Italian\")\n",
        "chines_resturant = Resturant(\"Beijing Temple\", \"Chinese\")\n",
        "\n",
        "french_resturant.describe_resturant()\n",
        "print(\"___\\n\")\n",
        "\n",
        "italian_resturant.describe_resturant()\n",
        "print(\"___\\n\")\n",
        "\n",
        "chines_resturant.describe_resturant()\n"
      ],
      "metadata": {
        "colab": {
          "base_uri": "https://localhost:8080/"
        },
        "id": "kbGsDnBmh_VK",
        "outputId": "66b55700-b22f-4f7b-b38c-5510d1506591"
      },
      "execution_count": 15,
      "outputs": [
        {
          "output_type": "stream",
          "name": "stdout",
          "text": [
            "The resturant is called Brasserie\n",
            "The cuisine type is French\n",
            "___\n",
            "\n",
            "The resturant is called Luigi\n",
            "The cuisine type is Italian\n",
            "___\n",
            "\n",
            "The resturant is called Beijing Temple\n",
            "The cuisine type is Chinese\n"
          ]
        }
      ]
    },
    {
      "cell_type": "code",
      "source": [
        "class User:\n",
        "  def __init__(self, first_name, last_name, location, age):\n",
        "    self.first_name = first_name\n",
        "    self.last_name = last_name\n",
        "    self.location = location\n",
        "    self.age = age\n",
        "\n",
        "  def describe_user(self):\n",
        "    print(f\"The user's name is {self.first_name} {self.last_name}\")\n",
        "    print(f'The user is {self.age} years old and lives in {self.location}')\n",
        "\n",
        "  def greet_user(self):\n",
        "    print(f\"Hello, {self.first_name} {self.last_name}\")\n",
        "\n",
        "user_1 = User(\"Bob\", \"The Builder\", \"London\", 42)\n",
        "user_1.describe_user()\n",
        "user_1.greet_user()\n",
        "\n",
        "print(\"___\\n\")\n",
        "\n",
        "user_2 = User(\"Peter\", \"Parker\", \"New York\", 28)\n",
        "user_2.describe_user()\n",
        "user_2.greet_user()"
      ],
      "metadata": {
        "colab": {
          "base_uri": "https://localhost:8080/"
        },
        "id": "PIwJ48epjmWV",
        "outputId": "d6c7e2a2-755b-40c5-a2c1-2e45aa4f15d5"
      },
      "execution_count": 17,
      "outputs": [
        {
          "output_type": "stream",
          "name": "stdout",
          "text": [
            "The user's name is Bob The Builder\n",
            "The user is 42 years old and lives in London\n",
            "Hello, Bob The Builder\n",
            "___\n",
            "\n",
            "The user's name is Peter Parker\n",
            "The user is 28 years old and lives in New York\n",
            "Hello, Peter Parker\n"
          ]
        }
      ]
    }
  ]
}