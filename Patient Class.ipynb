{
 "cells": [
  {
   "cell_type": "code",
   "execution_count": 49,
   "id": "387d4799",
   "metadata": {},
   "outputs": [],
   "source": [
    "class Patient:\n",
    "    def __init__(self, last_name, first_name, age):\n",
    "        self.last_name = last_name\n",
    "        self.first_name = first_name\n",
    "        self.age = age\n",
    "        \n",
    "    def say_if_minor(self):\n",
    "        if self.age <= 25:\n",
    "            print(f\"{self.first_name} {self.last_name} is a minor\")\n",
    "        \n",
    "        elif self.age <=40:\n",
    "            print(f\"{self.first_name} {self.last_name} need to avoiding suger, junk food and do some dieting because you are heart patient\")\n",
    "        \n",
    "        elif self.age > 40:\n",
    "            print('Sorry you need to bypass')\n",
    "            \n",
    "    \n",
    "\n",
    "paid4343 = Patient(\"Taleb\",\"Sue\", 42)\n",
    "paid4344 = Patient(\"Anand\", \"Kumar\", 25)\n",
    "paid4345 = Patient(\"Jimmy\", \"Usos\", 38)\n",
    "paid4346 = Patient(\"Bob\", \"Jolly\", 18)\n",
    "paid12902 = Patient(\"Nilsson\", \"Rhonda\", 30)\n",
    "\n"
   ]
  },
  {
   "cell_type": "code",
   "execution_count": 57,
   "id": "df208dc3",
   "metadata": {},
   "outputs": [
    {
     "name": "stdout",
     "output_type": "stream",
     "text": [
      "Jolly Bob is a minor\n",
      "__\n",
      "\n",
      "Rhonda Nilsson need to avoiding suger, junk food and do some dieting because you are heart patient\n",
      "__\n",
      "\n",
      "Usos Jimmy need to avoiding suger, junk food and do some dieting because you are heart patient\n",
      "__\n",
      "\n",
      "Kumar Anand is a minor\n",
      "__\n",
      "\n",
      "Sorry you need to bypass\n"
     ]
    }
   ],
   "source": [
    "pid1=paid4346.say_if_minor()\n",
    "print(\"__\\n\")\n",
    "pid2=paid12902.say_if_minor()\n",
    "print(\"__\\n\")\n",
    "\n",
    "pid3=paid4345.say_if_minor()\n",
    "print(\"__\\n\")\n",
    "\n",
    "pid4=paid4344.say_if_minor()\n",
    "print(\"__\\n\")\n",
    "\n",
    "pid5=paid4343.say_if_minor()"
   ]
  },
  {
   "cell_type": "code",
   "execution_count": null,
   "id": "e3223465",
   "metadata": {},
   "outputs": [],
   "source": []
  },
  {
   "cell_type": "code",
   "execution_count": null,
   "id": "291ccf0b",
   "metadata": {},
   "outputs": [],
   "source": []
  }
 ],
 "metadata": {
  "kernelspec": {
   "display_name": "Python 3 (ipykernel)",
   "language": "python",
   "name": "python3"
  },
  "language_info": {
   "codemirror_mode": {
    "name": "ipython",
    "version": 3
   },
   "file_extension": ".py",
   "mimetype": "text/x-python",
   "name": "python",
   "nbconvert_exporter": "python",
   "pygments_lexer": "ipython3",
   "version": "3.10.9"
  }
 },
 "nbformat": 4,
 "nbformat_minor": 5
}
